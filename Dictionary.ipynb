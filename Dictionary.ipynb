{
 "cells": [
  {
   "cell_type": "code",
   "execution_count": 1,
   "metadata": {},
   "outputs": [
    {
     "name": "stdout",
     "output_type": "stream",
     "text": [
      "Search the word: right\n",
      "One direction or side, as opposed to left. When a person hold his hands out, palms facing away from him, the shape between the first finger and thumb that it not an \"L\" is this direction.\n",
      "That are in accordance with fact.\n",
      "A power or liberty to which one is justly entitled.\n",
      "Something that is on the right side relative to another object.\n",
      "Pertaining to the political right; conservative.\n"
     ]
    }
   ],
   "source": [
    "import json\n",
    "from difflib import get_close_matches\n",
    "data = json.load(open(\"data.json\"))\n",
    "def translate(word):\n",
    "    if word in data:\n",
    "        return data[word]\n",
    "    elif len(get_close_matches(word,data.keys())) > 0 :\n",
    "        print(\"Did you mean %s instead\" %get_close_matches(word,data.keys())[0])\n",
    "        decide = input(\"yes/no \")\n",
    "        if decide == \"yes\":\n",
    "            return data[get_close_matches(word,data.keys())[0]]\n",
    "        elif decide == \"no\":\n",
    "            return(\"Word doesn't exist!!\")\n",
    "        else:\n",
    "            print(\"You entered something wrong!\")\n",
    "    else:\n",
    "        print(\"Word doesn't exist!!\")\n",
    "word = input(\"Search the word: \").lower()\n",
    "output = translate(word)\n",
    "if type(output) == list:\n",
    "    for i in output:\n",
    "        print(i)\n",
    "else:\n",
    "    print(output)"
   ]
  },
  {
   "cell_type": "code",
   "execution_count": null,
   "metadata": {},
   "outputs": [],
   "source": []
  },
  {
   "cell_type": "code",
   "execution_count": null,
   "metadata": {},
   "outputs": [],
   "source": []
  }
 ],
 "metadata": {
  "kernelspec": {
   "display_name": "Python 3",
   "language": "python",
   "name": "python3"
  },
  "language_info": {
   "codemirror_mode": {
    "name": "ipython",
    "version": 3
   },
   "file_extension": ".py",
   "mimetype": "text/x-python",
   "name": "python",
   "nbconvert_exporter": "python",
   "pygments_lexer": "ipython3",
   "version": "3.7.6"
  }
 },
 "nbformat": 4,
 "nbformat_minor": 4
}
